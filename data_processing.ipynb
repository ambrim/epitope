{
 "cells": [
  {
   "cell_type": "code",
   "execution_count": 71,
   "metadata": {},
   "outputs": [
    {
     "name": "stdout",
     "output_type": "stream",
     "text": [
      "Index(['Epitope ID - IEDB IRI', 'Epitope - Name',\n",
      "       'Epitope - Starting Position', 'Epitope - Ending Position',\n",
      "       'Epitope - Source Molecule', 'Epitope - Source Molecule IRI'],\n",
      "      dtype='object')\n"
     ]
    }
   ],
   "source": [
    "import pandas as pd\n",
    "import openpyxl\n",
    "\n",
    "raw_excel = 'epitope_table_large.xlsx'\n",
    "\n",
    "# Use pandas.read_excel() to read the Excel file into a DataFrame\n",
    "df = pd.read_excel(raw_excel)\n",
    "\n",
    "num_raw_entries = len(df)\n",
    "\n",
    "print(df.columns)"
   ]
  },
  {
   "cell_type": "code",
   "execution_count": 67,
   "metadata": {},
   "outputs": [
    {
     "name": "stdout",
     "output_type": "stream",
     "text": [
      "999 964\n"
     ]
    }
   ],
   "source": [
    "df = df.dropna(subset=['Epitope - Starting Position', 'Epitope - Ending Position', 'Epitope - Source Molecule IRI'])\n",
    "\n",
    "num_entries_1 = len(df)\n",
    "print(num_raw_entries, num_entries_1)"
   ]
  },
  {
   "cell_type": "code",
   "execution_count": 68,
   "metadata": {},
   "outputs": [
    {
     "name": "stdout",
     "output_type": "stream",
     "text": [
      "963\n",
      "<bound method NDFrame.head of                   Epitope ID - IEDB IRI        Epitope - Name  \\\n",
      "0       https://www.iedb.org/epitope/34                AAAGDK   \n",
      "1       https://www.iedb.org/epitope/56               AAARTTS   \n",
      "2       https://www.iedb.org/epitope/60      AAASAIQGNVTSIHSL   \n",
      "3       https://www.iedb.org/epitope/76                AACRAA   \n",
      "4       https://www.iedb.org/epitope/82        AADAILHTPGCVPC   \n",
      "..                                  ...                   ...   \n",
      "994  https://www.iedb.org/epitope/17997  FTKVCGAPPCVIGGAGNNTL   \n",
      "995  https://www.iedb.org/epitope/17998          FTKWTWETKGDL   \n",
      "996  https://www.iedb.org/epitope/18025         FTNKLKEKHTDLG   \n",
      "997  https://www.iedb.org/epitope/18037        FTPGAKQNIQLINT   \n",
      "998  https://www.iedb.org/epitope/18039               FTPGPSQ   \n",
      "\n",
      "     Epitope - Starting Position  Epitope - Ending Position  \\\n",
      "0                            7.0                       12.0   \n",
      "1                            7.0                       13.0   \n",
      "2                           13.0                       28.0   \n",
      "3                         2720.0                     2725.0   \n",
      "4                          216.0                      229.0   \n",
      "..                           ...                        ...   \n",
      "994                        560.0                      579.0   \n",
      "995                         82.0                       93.0   \n",
      "996                        134.0                      146.0   \n",
      "997                        403.0                      416.0   \n",
      "998                        403.0                      409.0   \n",
      "\n",
      "                  Epitope - Source Molecule  \\\n",
      "0                               B13 antigen   \n",
      "1                   envelope glycoprotein 2   \n",
      "2    6 kDa early secretory antigenic target   \n",
      "3                        Genome polyprotein   \n",
      "4                        Genome polyprotein   \n",
      "..                                      ...   \n",
      "994                                   HCV-1   \n",
      "995         Envelope glycoprotein precursor   \n",
      "996       Outer surface protein C precursor   \n",
      "997                      Genome polyprotein   \n",
      "998                             polyprotein   \n",
      "\n",
      "                      Epitope - Source Molecule IRI  \n",
      "0    http://www.ncbi.nlm.nih.gov/protein/AAP88022.1  \n",
      "1    http://www.ncbi.nlm.nih.gov/protein/ABP93610.1  \n",
      "2      http://www.ncbi.nlm.nih.gov/protein/P0A564.2  \n",
      "3          https://www.uniprot.org/uniprot/P26663.3  \n",
      "4          https://www.uniprot.org/uniprot/P26664.3  \n",
      "..                                              ...  \n",
      "994  http://www.ncbi.nlm.nih.gov/protein/AAA45676.1  \n",
      "995    http://www.ncbi.nlm.nih.gov/protein/P27312.1  \n",
      "996    http://www.ncbi.nlm.nih.gov/protein/Q07337.1  \n",
      "997        https://www.uniprot.org/uniprot/Q03463.1  \n",
      "998  http://www.ncbi.nlm.nih.gov/protein/BAA02670.1  \n",
      "\n",
      "[963 rows x 6 columns]>\n"
     ]
    }
   ],
   "source": [
    "valid_prefixes = ['http://www.ncbi.nlm.nih.gov/protein/', 'https://www.uniprot.org/uniprot/']\n",
    "\n",
    "# Create a boolean mask to filter rows that start with a valid prefix\n",
    "mask = df['Epitope - Source Molecule IRI'].str.startswith(tuple(valid_prefixes))\n",
    "\n",
    "# Use the boolean mask to filter the DataFrame\n",
    "df = df[mask]\n",
    "\n",
    "num_entries_2 = len(df)\n",
    "print(num_entries_2)\n",
    "print(df.head)"
   ]
  },
  {
   "cell_type": "code",
   "execution_count": 69,
   "metadata": {},
   "outputs": [
    {
     "name": "stderr",
     "output_type": "stream",
     "text": [
      "/var/folders/zm/hzzkqkln6p55nm0jkx5xzfsh0000gn/T/ipykernel_79804/40867623.py:58: FutureWarning: Setting an item of incompatible dtype is deprecated and will raise in a future error of pandas. Value 'AAP88022.1' has dtype incompatible with int64, please explicitly cast to a compatible dtype first.\n",
      "  df.at[index, 'Epitope ID'] = cID\n"
     ]
    },
    {
     "name": "stdout",
     "output_type": "stream",
     "text": [
      "0 PPPFGQAAAGDKPSPFGQAAAGDKPPPFGQAAAGDKPSPFGQAAAGDKPPPFGQAAAGDKPSPFGQAAAGGKPPPFGQAAAGDKPSPFGQAAAGDKPPPFGQAAAGDKPSPFGQAAAGDKPPPFGQAAAGDKPPPFGQAAEGDKPPPFGQAAAGDKPAPFGQAAEGDKPPPFGQAAAADKPSLFGQAAAGDKLSLFGQAAAGDKPPPFGQAAEGDKPPPFGQAAAGD\n",
      "1 TYATGGAAARTTSGFASLFSPGSAQ\n",
      "2 MTEQQWNFAGIEAAASAIQGNVTSIHSLLDEGKQSLTKLAAAWGGSGSEAYQGVQQKWDATATELNNALQNLARTISEAGQAMASTEGNVTGMFA\n",
      "3 TOO LONG\n",
      "4 TOO LONG\n",
      "5 TOO LONG\n",
      "6 MSTLQELQENITAHEQQLVTARQKLKDAEKAVEVDPDDVNKSTLQNRRAAVSTLETKLGELKRQLADLVAAQKLATKPVDPTGLEPDDHLKEKSSLRYGNVLDVNSIDLEEPSGQTADWKAIGAYILGFAIPIILKALYMLSTRGRQAVKDNKGTRIRFKDDSSFEEVNGIRKPKHLYVSMPTAQSTMKAEEITPGRFRTIACGLFPAQVKARNIISPVMGVIGFGFFVKDWMDRIEEFLAAECPFLPKPKVASEAFMSTNKMYFLNRQRQVNESKVQDIIDLIDHAETESATLFTEIATPHSVWVFACAPDRCPPTALYVAGVPELGAFFSILQDMRNTIMASKSVGTAEEKLKKKSAFYQSYLRRTQSMGIQLDQKIIILYMLSWGKEAVNHFHLGDDMDPELRQLAQSLIDTKVKEISNQEPLKL\n",
      "7 TOO LONG\n",
      "8 MRPRPILLLLLMFLPMLPAPPPGQPSGRRRGRRSGGSGGGFWGDRADSQPFAIPYIHPTNPFAPDVTAAAGAGPRVRQPARPLGSAWRDQAQRPAAASRRRPTTAGAAPLTAVAPAHDTPPVPDVDSRGAILRRQYNLSTSPLTSSVATGTNLVLYAAPLSPLLPLQDGTNTHIMATEASNYAQYRVVRATIRYRPLVPNAVGGYAISISFWPQTTTTPTSVDMNSITSTDVRILVQPGIASEHVIPSERLHYRNQGWRSVETSGVAEEEATSGLVMLCIHGSLVNSYTNTPYTGALGLLDFALELEFRNLTPGNTNTRVSRYSSTARHRLRRGADGTAELTTTAATRFMKDLYFTSTNGVGEIGRGIALTLFNLADTLLGGLPTELISSAGGQLFYSRPVVSANGEPTVKLYTSVENAQQDKGIAIPHDIDLGESRVVIQDYDNQHEQDRPTPSPAPSRPFSVLRANDVLWLSLTAAEYDQSTYGSSTGPVYVSDSVTLVNVATGAQAVARSLDWTKVTLDGRPLSTTQQYSKTFFVLPLRGKLSFWEAGTTKAGYPYNYNTTASDQLLVENAAGHRVAISTYTTSLGAGPVSISAVAVLAPHSALALLEDTMDYPARAHTFDDFCPECRPLGLQGCAFQSTVAELQRLKMKVGKTREL\n",
      "9 MAEMKTDAATLAQEAGNFERISGDLKTQIDQVESTAGSLQGQWRGAAGTAAQAAVVRFQEAANKQKQELDEISTNIRQAGVQYSRADEEQQQALSSQMGF\n"
     ]
    },
    {
     "ename": "KeyboardInterrupt",
     "evalue": "",
     "output_type": "error",
     "traceback": [
      "\u001b[0;31m---------------------------------------------------------------------------\u001b[0m",
      "\u001b[0;31mKeyboardInterrupt\u001b[0m                         Traceback (most recent call last)",
      "\u001b[1;32m/Users/amalicema24/Downloads/esm2_pytorch/data_processing.ipynb Cell 4\u001b[0m line \u001b[0;36m5\n\u001b[1;32m     <a href='vscode-notebook-cell:/Users/amalicema24/Downloads/esm2_pytorch/data_processing.ipynb#W4sZmlsZQ%3D%3D?line=45'>46</a>\u001b[0m \u001b[39mif\u001b[39;00m url[:\u001b[39mlen\u001b[39m(prefix)] \u001b[39m==\u001b[39m prefix:\n\u001b[1;32m     <a href='vscode-notebook-cell:/Users/amalicema24/Downloads/esm2_pytorch/data_processing.ipynb#W4sZmlsZQ%3D%3D?line=46'>47</a>\u001b[0m     \u001b[39m# Extract the code snippet from the URL\u001b[39;00m\n\u001b[1;32m     <a href='vscode-notebook-cell:/Users/amalicema24/Downloads/esm2_pytorch/data_processing.ipynb#W4sZmlsZQ%3D%3D?line=47'>48</a>\u001b[0m     cID \u001b[39m=\u001b[39m url[\u001b[39mlen\u001b[39m(prefix):]\n\u001b[0;32m---> <a href='vscode-notebook-cell:/Users/amalicema24/Downloads/esm2_pytorch/data_processing.ipynb#W4sZmlsZQ%3D%3D?line=50'>51</a>\u001b[0m     sequence \u001b[39m=\u001b[39m get_sequence_from_url(prefix, cID)\n\u001b[1;32m     <a href='vscode-notebook-cell:/Users/amalicema24/Downloads/esm2_pytorch/data_processing.ipynb#W4sZmlsZQ%3D%3D?line=52'>53</a>\u001b[0m     \u001b[39mif\u001b[39;00m sequence \u001b[39m==\u001b[39m \u001b[39m'\u001b[39m\u001b[39mTOO LONG\u001b[39m\u001b[39m'\u001b[39m:\n\u001b[1;32m     <a href='vscode-notebook-cell:/Users/amalicema24/Downloads/esm2_pytorch/data_processing.ipynb#W4sZmlsZQ%3D%3D?line=53'>54</a>\u001b[0m         df\u001b[39m.\u001b[39mdrop(index, inplace\u001b[39m=\u001b[39m\u001b[39mTrue\u001b[39;00m)\n",
      "\u001b[1;32m/Users/amalicema24/Downloads/esm2_pytorch/data_processing.ipynb Cell 4\u001b[0m line \u001b[0;36m2\n\u001b[1;32m     <a href='vscode-notebook-cell:/Users/amalicema24/Downloads/esm2_pytorch/data_processing.ipynb#W4sZmlsZQ%3D%3D?line=22'>23</a>\u001b[0m \u001b[39melif\u001b[39;00m prefix \u001b[39m==\u001b[39m \u001b[39m\"\u001b[39m\u001b[39mhttps://www.uniprot.org/uniprot/\u001b[39m\u001b[39m\"\u001b[39m:\n\u001b[1;32m     <a href='vscode-notebook-cell:/Users/amalicema24/Downloads/esm2_pytorch/data_processing.ipynb#W4sZmlsZQ%3D%3D?line=23'>24</a>\u001b[0m     searchUrl \u001b[39m=\u001b[39m\u001b[39m'\u001b[39m\u001b[39mhttp://www.uniprot.org/uniprot/\u001b[39m\u001b[39m'\u001b[39m \u001b[39m+\u001b[39m cID \u001b[39m+\u001b[39m \u001b[39m\"\u001b[39m\u001b[39m.fasta\u001b[39m\u001b[39m\"\u001b[39m\n\u001b[0;32m---> <a href='vscode-notebook-cell:/Users/amalicema24/Downloads/esm2_pytorch/data_processing.ipynb#W4sZmlsZQ%3D%3D?line=25'>26</a>\u001b[0m     response \u001b[39m=\u001b[39m r\u001b[39m.\u001b[39;49mget(searchUrl)\n\u001b[1;32m     <a href='vscode-notebook-cell:/Users/amalicema24/Downloads/esm2_pytorch/data_processing.ipynb#W4sZmlsZQ%3D%3D?line=27'>28</a>\u001b[0m     \u001b[39mif\u001b[39;00m response\u001b[39m.\u001b[39mstatus_code \u001b[39m==\u001b[39m \u001b[39m200\u001b[39m:\n\u001b[1;32m     <a href='vscode-notebook-cell:/Users/amalicema24/Downloads/esm2_pytorch/data_processing.ipynb#W4sZmlsZQ%3D%3D?line=28'>29</a>\u001b[0m         fasta_sequence \u001b[39m=\u001b[39m response\u001b[39m.\u001b[39mtext\n",
      "File \u001b[0;32m~/miniconda3/envs/envo/lib/python3.11/site-packages/requests/api.py:73\u001b[0m, in \u001b[0;36mget\u001b[0;34m(url, params, **kwargs)\u001b[0m\n\u001b[1;32m     62\u001b[0m \u001b[39mdef\u001b[39;00m \u001b[39mget\u001b[39m(url, params\u001b[39m=\u001b[39m\u001b[39mNone\u001b[39;00m, \u001b[39m*\u001b[39m\u001b[39m*\u001b[39mkwargs):\n\u001b[1;32m     63\u001b[0m \u001b[39m    \u001b[39m\u001b[39mr\u001b[39m\u001b[39m\"\"\"Sends a GET request.\u001b[39;00m\n\u001b[1;32m     64\u001b[0m \n\u001b[1;32m     65\u001b[0m \u001b[39m    :param url: URL for the new :class:`Request` object.\u001b[39;00m\n\u001b[0;32m   (...)\u001b[0m\n\u001b[1;32m     70\u001b[0m \u001b[39m    :rtype: requests.Response\u001b[39;00m\n\u001b[1;32m     71\u001b[0m \u001b[39m    \"\"\"\u001b[39;00m\n\u001b[0;32m---> 73\u001b[0m     \u001b[39mreturn\u001b[39;00m request(\u001b[39m\"\u001b[39;49m\u001b[39mget\u001b[39;49m\u001b[39m\"\u001b[39;49m, url, params\u001b[39m=\u001b[39;49mparams, \u001b[39m*\u001b[39;49m\u001b[39m*\u001b[39;49mkwargs)\n",
      "File \u001b[0;32m~/miniconda3/envs/envo/lib/python3.11/site-packages/requests/api.py:59\u001b[0m, in \u001b[0;36mrequest\u001b[0;34m(method, url, **kwargs)\u001b[0m\n\u001b[1;32m     55\u001b[0m \u001b[39m# By using the 'with' statement we are sure the session is closed, thus we\u001b[39;00m\n\u001b[1;32m     56\u001b[0m \u001b[39m# avoid leaving sockets open which can trigger a ResourceWarning in some\u001b[39;00m\n\u001b[1;32m     57\u001b[0m \u001b[39m# cases, and look like a memory leak in others.\u001b[39;00m\n\u001b[1;32m     58\u001b[0m \u001b[39mwith\u001b[39;00m sessions\u001b[39m.\u001b[39mSession() \u001b[39mas\u001b[39;00m session:\n\u001b[0;32m---> 59\u001b[0m     \u001b[39mreturn\u001b[39;00m session\u001b[39m.\u001b[39;49mrequest(method\u001b[39m=\u001b[39;49mmethod, url\u001b[39m=\u001b[39;49murl, \u001b[39m*\u001b[39;49m\u001b[39m*\u001b[39;49mkwargs)\n",
      "File \u001b[0;32m~/miniconda3/envs/envo/lib/python3.11/site-packages/requests/sessions.py:589\u001b[0m, in \u001b[0;36mSession.request\u001b[0;34m(self, method, url, params, data, headers, cookies, files, auth, timeout, allow_redirects, proxies, hooks, stream, verify, cert, json)\u001b[0m\n\u001b[1;32m    584\u001b[0m send_kwargs \u001b[39m=\u001b[39m {\n\u001b[1;32m    585\u001b[0m     \u001b[39m\"\u001b[39m\u001b[39mtimeout\u001b[39m\u001b[39m\"\u001b[39m: timeout,\n\u001b[1;32m    586\u001b[0m     \u001b[39m\"\u001b[39m\u001b[39mallow_redirects\u001b[39m\u001b[39m\"\u001b[39m: allow_redirects,\n\u001b[1;32m    587\u001b[0m }\n\u001b[1;32m    588\u001b[0m send_kwargs\u001b[39m.\u001b[39mupdate(settings)\n\u001b[0;32m--> 589\u001b[0m resp \u001b[39m=\u001b[39m \u001b[39mself\u001b[39;49m\u001b[39m.\u001b[39;49msend(prep, \u001b[39m*\u001b[39;49m\u001b[39m*\u001b[39;49msend_kwargs)\n\u001b[1;32m    591\u001b[0m \u001b[39mreturn\u001b[39;00m resp\n",
      "File \u001b[0;32m~/miniconda3/envs/envo/lib/python3.11/site-packages/requests/sessions.py:725\u001b[0m, in \u001b[0;36mSession.send\u001b[0;34m(self, request, **kwargs)\u001b[0m\n\u001b[1;32m    722\u001b[0m \u001b[39mif\u001b[39;00m allow_redirects:\n\u001b[1;32m    723\u001b[0m     \u001b[39m# Redirect resolving generator.\u001b[39;00m\n\u001b[1;32m    724\u001b[0m     gen \u001b[39m=\u001b[39m \u001b[39mself\u001b[39m\u001b[39m.\u001b[39mresolve_redirects(r, request, \u001b[39m*\u001b[39m\u001b[39m*\u001b[39mkwargs)\n\u001b[0;32m--> 725\u001b[0m     history \u001b[39m=\u001b[39m [resp \u001b[39mfor\u001b[39;49;00m resp \u001b[39min\u001b[39;49;00m gen]\n\u001b[1;32m    726\u001b[0m \u001b[39melse\u001b[39;00m:\n\u001b[1;32m    727\u001b[0m     history \u001b[39m=\u001b[39m []\n",
      "File \u001b[0;32m~/miniconda3/envs/envo/lib/python3.11/site-packages/requests/sessions.py:725\u001b[0m, in \u001b[0;36m<listcomp>\u001b[0;34m(.0)\u001b[0m\n\u001b[1;32m    722\u001b[0m \u001b[39mif\u001b[39;00m allow_redirects:\n\u001b[1;32m    723\u001b[0m     \u001b[39m# Redirect resolving generator.\u001b[39;00m\n\u001b[1;32m    724\u001b[0m     gen \u001b[39m=\u001b[39m \u001b[39mself\u001b[39m\u001b[39m.\u001b[39mresolve_redirects(r, request, \u001b[39m*\u001b[39m\u001b[39m*\u001b[39mkwargs)\n\u001b[0;32m--> 725\u001b[0m     history \u001b[39m=\u001b[39m [resp \u001b[39mfor\u001b[39;00m resp \u001b[39min\u001b[39;00m gen]\n\u001b[1;32m    726\u001b[0m \u001b[39melse\u001b[39;00m:\n\u001b[1;32m    727\u001b[0m     history \u001b[39m=\u001b[39m []\n",
      "File \u001b[0;32m~/miniconda3/envs/envo/lib/python3.11/site-packages/requests/sessions.py:266\u001b[0m, in \u001b[0;36mSessionRedirectMixin.resolve_redirects\u001b[0;34m(self, resp, req, stream, timeout, verify, cert, proxies, yield_requests, **adapter_kwargs)\u001b[0m\n\u001b[1;32m    263\u001b[0m     \u001b[39myield\u001b[39;00m req\n\u001b[1;32m    264\u001b[0m \u001b[39melse\u001b[39;00m:\n\u001b[0;32m--> 266\u001b[0m     resp \u001b[39m=\u001b[39m \u001b[39mself\u001b[39;49m\u001b[39m.\u001b[39;49msend(\n\u001b[1;32m    267\u001b[0m         req,\n\u001b[1;32m    268\u001b[0m         stream\u001b[39m=\u001b[39;49mstream,\n\u001b[1;32m    269\u001b[0m         timeout\u001b[39m=\u001b[39;49mtimeout,\n\u001b[1;32m    270\u001b[0m         verify\u001b[39m=\u001b[39;49mverify,\n\u001b[1;32m    271\u001b[0m         cert\u001b[39m=\u001b[39;49mcert,\n\u001b[1;32m    272\u001b[0m         proxies\u001b[39m=\u001b[39;49mproxies,\n\u001b[1;32m    273\u001b[0m         allow_redirects\u001b[39m=\u001b[39;49m\u001b[39mFalse\u001b[39;49;00m,\n\u001b[1;32m    274\u001b[0m         \u001b[39m*\u001b[39;49m\u001b[39m*\u001b[39;49madapter_kwargs,\n\u001b[1;32m    275\u001b[0m     )\n\u001b[1;32m    277\u001b[0m     extract_cookies_to_jar(\u001b[39mself\u001b[39m\u001b[39m.\u001b[39mcookies, prepared_request, resp\u001b[39m.\u001b[39mraw)\n\u001b[1;32m    279\u001b[0m     \u001b[39m# extract redirect url, if any, for the next loop\u001b[39;00m\n",
      "File \u001b[0;32m~/miniconda3/envs/envo/lib/python3.11/site-packages/requests/sessions.py:703\u001b[0m, in \u001b[0;36mSession.send\u001b[0;34m(self, request, **kwargs)\u001b[0m\n\u001b[1;32m    700\u001b[0m start \u001b[39m=\u001b[39m preferred_clock()\n\u001b[1;32m    702\u001b[0m \u001b[39m# Send the request\u001b[39;00m\n\u001b[0;32m--> 703\u001b[0m r \u001b[39m=\u001b[39m adapter\u001b[39m.\u001b[39;49msend(request, \u001b[39m*\u001b[39;49m\u001b[39m*\u001b[39;49mkwargs)\n\u001b[1;32m    705\u001b[0m \u001b[39m# Total elapsed time of the request (approximately)\u001b[39;00m\n\u001b[1;32m    706\u001b[0m elapsed \u001b[39m=\u001b[39m preferred_clock() \u001b[39m-\u001b[39m start\n",
      "File \u001b[0;32m~/miniconda3/envs/envo/lib/python3.11/site-packages/requests/adapters.py:486\u001b[0m, in \u001b[0;36mHTTPAdapter.send\u001b[0;34m(self, request, stream, timeout, verify, cert, proxies)\u001b[0m\n\u001b[1;32m    483\u001b[0m     timeout \u001b[39m=\u001b[39m TimeoutSauce(connect\u001b[39m=\u001b[39mtimeout, read\u001b[39m=\u001b[39mtimeout)\n\u001b[1;32m    485\u001b[0m \u001b[39mtry\u001b[39;00m:\n\u001b[0;32m--> 486\u001b[0m     resp \u001b[39m=\u001b[39m conn\u001b[39m.\u001b[39;49murlopen(\n\u001b[1;32m    487\u001b[0m         method\u001b[39m=\u001b[39;49mrequest\u001b[39m.\u001b[39;49mmethod,\n\u001b[1;32m    488\u001b[0m         url\u001b[39m=\u001b[39;49murl,\n\u001b[1;32m    489\u001b[0m         body\u001b[39m=\u001b[39;49mrequest\u001b[39m.\u001b[39;49mbody,\n\u001b[1;32m    490\u001b[0m         headers\u001b[39m=\u001b[39;49mrequest\u001b[39m.\u001b[39;49mheaders,\n\u001b[1;32m    491\u001b[0m         redirect\u001b[39m=\u001b[39;49m\u001b[39mFalse\u001b[39;49;00m,\n\u001b[1;32m    492\u001b[0m         assert_same_host\u001b[39m=\u001b[39;49m\u001b[39mFalse\u001b[39;49;00m,\n\u001b[1;32m    493\u001b[0m         preload_content\u001b[39m=\u001b[39;49m\u001b[39mFalse\u001b[39;49;00m,\n\u001b[1;32m    494\u001b[0m         decode_content\u001b[39m=\u001b[39;49m\u001b[39mFalse\u001b[39;49;00m,\n\u001b[1;32m    495\u001b[0m         retries\u001b[39m=\u001b[39;49m\u001b[39mself\u001b[39;49m\u001b[39m.\u001b[39;49mmax_retries,\n\u001b[1;32m    496\u001b[0m         timeout\u001b[39m=\u001b[39;49mtimeout,\n\u001b[1;32m    497\u001b[0m         chunked\u001b[39m=\u001b[39;49mchunked,\n\u001b[1;32m    498\u001b[0m     )\n\u001b[1;32m    500\u001b[0m \u001b[39mexcept\u001b[39;00m (ProtocolError, \u001b[39mOSError\u001b[39;00m) \u001b[39mas\u001b[39;00m err:\n\u001b[1;32m    501\u001b[0m     \u001b[39mraise\u001b[39;00m \u001b[39mConnectionError\u001b[39;00m(err, request\u001b[39m=\u001b[39mrequest)\n",
      "File \u001b[0;32m~/miniconda3/envs/envo/lib/python3.11/site-packages/urllib3/connectionpool.py:715\u001b[0m, in \u001b[0;36mHTTPConnectionPool.urlopen\u001b[0;34m(self, method, url, body, headers, retries, redirect, assert_same_host, timeout, pool_timeout, release_conn, chunked, body_pos, **response_kw)\u001b[0m\n\u001b[1;32m    712\u001b[0m     \u001b[39mself\u001b[39m\u001b[39m.\u001b[39m_prepare_proxy(conn)\n\u001b[1;32m    714\u001b[0m \u001b[39m# Make the request on the httplib connection object.\u001b[39;00m\n\u001b[0;32m--> 715\u001b[0m httplib_response \u001b[39m=\u001b[39m \u001b[39mself\u001b[39;49m\u001b[39m.\u001b[39;49m_make_request(\n\u001b[1;32m    716\u001b[0m     conn,\n\u001b[1;32m    717\u001b[0m     method,\n\u001b[1;32m    718\u001b[0m     url,\n\u001b[1;32m    719\u001b[0m     timeout\u001b[39m=\u001b[39;49mtimeout_obj,\n\u001b[1;32m    720\u001b[0m     body\u001b[39m=\u001b[39;49mbody,\n\u001b[1;32m    721\u001b[0m     headers\u001b[39m=\u001b[39;49mheaders,\n\u001b[1;32m    722\u001b[0m     chunked\u001b[39m=\u001b[39;49mchunked,\n\u001b[1;32m    723\u001b[0m )\n\u001b[1;32m    725\u001b[0m \u001b[39m# If we're going to release the connection in ``finally:``, then\u001b[39;00m\n\u001b[1;32m    726\u001b[0m \u001b[39m# the response doesn't need to know about the connection. Otherwise\u001b[39;00m\n\u001b[1;32m    727\u001b[0m \u001b[39m# it will also try to release it and we'll have a double-release\u001b[39;00m\n\u001b[1;32m    728\u001b[0m \u001b[39m# mess.\u001b[39;00m\n\u001b[1;32m    729\u001b[0m response_conn \u001b[39m=\u001b[39m conn \u001b[39mif\u001b[39;00m \u001b[39mnot\u001b[39;00m release_conn \u001b[39melse\u001b[39;00m \u001b[39mNone\u001b[39;00m\n",
      "File \u001b[0;32m~/miniconda3/envs/envo/lib/python3.11/site-packages/urllib3/connectionpool.py:404\u001b[0m, in \u001b[0;36mHTTPConnectionPool._make_request\u001b[0;34m(self, conn, method, url, timeout, chunked, **httplib_request_kw)\u001b[0m\n\u001b[1;32m    402\u001b[0m \u001b[39m# Trigger any extra validation we need to do.\u001b[39;00m\n\u001b[1;32m    403\u001b[0m \u001b[39mtry\u001b[39;00m:\n\u001b[0;32m--> 404\u001b[0m     \u001b[39mself\u001b[39;49m\u001b[39m.\u001b[39;49m_validate_conn(conn)\n\u001b[1;32m    405\u001b[0m \u001b[39mexcept\u001b[39;00m (SocketTimeout, BaseSSLError) \u001b[39mas\u001b[39;00m e:\n\u001b[1;32m    406\u001b[0m     \u001b[39m# Py2 raises this as a BaseSSLError, Py3 raises it as socket timeout.\u001b[39;00m\n\u001b[1;32m    407\u001b[0m     \u001b[39mself\u001b[39m\u001b[39m.\u001b[39m_raise_timeout(err\u001b[39m=\u001b[39me, url\u001b[39m=\u001b[39murl, timeout_value\u001b[39m=\u001b[39mconn\u001b[39m.\u001b[39mtimeout)\n",
      "File \u001b[0;32m~/miniconda3/envs/envo/lib/python3.11/site-packages/urllib3/connectionpool.py:1058\u001b[0m, in \u001b[0;36mHTTPSConnectionPool._validate_conn\u001b[0;34m(self, conn)\u001b[0m\n\u001b[1;32m   1056\u001b[0m \u001b[39m# Force connect early to allow us to validate the connection.\u001b[39;00m\n\u001b[1;32m   1057\u001b[0m \u001b[39mif\u001b[39;00m \u001b[39mnot\u001b[39;00m \u001b[39mgetattr\u001b[39m(conn, \u001b[39m\"\u001b[39m\u001b[39msock\u001b[39m\u001b[39m\"\u001b[39m, \u001b[39mNone\u001b[39;00m):  \u001b[39m# AppEngine might not have  `.sock`\u001b[39;00m\n\u001b[0;32m-> 1058\u001b[0m     conn\u001b[39m.\u001b[39;49mconnect()\n\u001b[1;32m   1060\u001b[0m \u001b[39mif\u001b[39;00m \u001b[39mnot\u001b[39;00m conn\u001b[39m.\u001b[39mis_verified:\n\u001b[1;32m   1061\u001b[0m     warnings\u001b[39m.\u001b[39mwarn(\n\u001b[1;32m   1062\u001b[0m         (\n\u001b[1;32m   1063\u001b[0m             \u001b[39m\"\u001b[39m\u001b[39mUnverified HTTPS request is being made to host \u001b[39m\u001b[39m'\u001b[39m\u001b[39m%s\u001b[39;00m\u001b[39m'\u001b[39m\u001b[39m. \u001b[39m\u001b[39m\"\u001b[39m\n\u001b[0;32m   (...)\u001b[0m\n\u001b[1;32m   1068\u001b[0m         InsecureRequestWarning,\n\u001b[1;32m   1069\u001b[0m     )\n",
      "File \u001b[0;32m~/miniconda3/envs/envo/lib/python3.11/site-packages/urllib3/connection.py:363\u001b[0m, in \u001b[0;36mHTTPSConnection.connect\u001b[0;34m(self)\u001b[0m\n\u001b[1;32m    361\u001b[0m \u001b[39mdef\u001b[39;00m \u001b[39mconnect\u001b[39m(\u001b[39mself\u001b[39m):\n\u001b[1;32m    362\u001b[0m     \u001b[39m# Add certificate verification\u001b[39;00m\n\u001b[0;32m--> 363\u001b[0m     \u001b[39mself\u001b[39m\u001b[39m.\u001b[39msock \u001b[39m=\u001b[39m conn \u001b[39m=\u001b[39m \u001b[39mself\u001b[39;49m\u001b[39m.\u001b[39;49m_new_conn()\n\u001b[1;32m    364\u001b[0m     hostname \u001b[39m=\u001b[39m \u001b[39mself\u001b[39m\u001b[39m.\u001b[39mhost\n\u001b[1;32m    365\u001b[0m     tls_in_tls \u001b[39m=\u001b[39m \u001b[39mFalse\u001b[39;00m\n",
      "File \u001b[0;32m~/miniconda3/envs/envo/lib/python3.11/site-packages/urllib3/connection.py:174\u001b[0m, in \u001b[0;36mHTTPConnection._new_conn\u001b[0;34m(self)\u001b[0m\n\u001b[1;32m    171\u001b[0m     extra_kw[\u001b[39m\"\u001b[39m\u001b[39msocket_options\u001b[39m\u001b[39m\"\u001b[39m] \u001b[39m=\u001b[39m \u001b[39mself\u001b[39m\u001b[39m.\u001b[39msocket_options\n\u001b[1;32m    173\u001b[0m \u001b[39mtry\u001b[39;00m:\n\u001b[0;32m--> 174\u001b[0m     conn \u001b[39m=\u001b[39m connection\u001b[39m.\u001b[39;49mcreate_connection(\n\u001b[1;32m    175\u001b[0m         (\u001b[39mself\u001b[39;49m\u001b[39m.\u001b[39;49m_dns_host, \u001b[39mself\u001b[39;49m\u001b[39m.\u001b[39;49mport), \u001b[39mself\u001b[39;49m\u001b[39m.\u001b[39;49mtimeout, \u001b[39m*\u001b[39;49m\u001b[39m*\u001b[39;49mextra_kw\n\u001b[1;32m    176\u001b[0m     )\n\u001b[1;32m    178\u001b[0m \u001b[39mexcept\u001b[39;00m SocketTimeout:\n\u001b[1;32m    179\u001b[0m     \u001b[39mraise\u001b[39;00m ConnectTimeoutError(\n\u001b[1;32m    180\u001b[0m         \u001b[39mself\u001b[39m,\n\u001b[1;32m    181\u001b[0m         \u001b[39m\"\u001b[39m\u001b[39mConnection to \u001b[39m\u001b[39m%s\u001b[39;00m\u001b[39m timed out. (connect timeout=\u001b[39m\u001b[39m%s\u001b[39;00m\u001b[39m)\u001b[39m\u001b[39m\"\u001b[39m\n\u001b[1;32m    182\u001b[0m         \u001b[39m%\u001b[39m (\u001b[39mself\u001b[39m\u001b[39m.\u001b[39mhost, \u001b[39mself\u001b[39m\u001b[39m.\u001b[39mtimeout),\n\u001b[1;32m    183\u001b[0m     )\n",
      "File \u001b[0;32m~/miniconda3/envs/envo/lib/python3.11/site-packages/urllib3/util/connection.py:85\u001b[0m, in \u001b[0;36mcreate_connection\u001b[0;34m(address, timeout, source_address, socket_options)\u001b[0m\n\u001b[1;32m     83\u001b[0m     \u001b[39mif\u001b[39;00m source_address:\n\u001b[1;32m     84\u001b[0m         sock\u001b[39m.\u001b[39mbind(source_address)\n\u001b[0;32m---> 85\u001b[0m     sock\u001b[39m.\u001b[39;49mconnect(sa)\n\u001b[1;32m     86\u001b[0m     \u001b[39mreturn\u001b[39;00m sock\n\u001b[1;32m     88\u001b[0m \u001b[39mexcept\u001b[39;00m socket\u001b[39m.\u001b[39merror \u001b[39mas\u001b[39;00m e:\n",
      "\u001b[0;31mKeyboardInterrupt\u001b[0m: "
     ]
    }
   ],
   "source": [
    "import requests as r\n",
    "from Bio import SeqIO\n",
    "from io import StringIO\n",
    "from Bio import Entrez\n",
    "Entrez.email = \"ambri@princeton.edu\"  # Set your email address\n",
    "df['Epitope ID'] = 0\n",
    "\n",
    "# Function to retrieve sequence from URL\n",
    "def get_sequence_from_url(prefix, cID):\n",
    "    response = ''\n",
    "    \n",
    "    if prefix == \"http://www.ncbi.nlm.nih.gov/protein/\":\n",
    "        handle = Entrez.efetch(db=\"protein\", id=cID,  rettype=\"fasta\")\n",
    "        fasta_sequence = handle.read()\n",
    "        handle.close()\n",
    "        # Skip the first header line\n",
    "        lines = fasta_sequence.split('\\n')\n",
    "        sequence_lines = lines[1:]\n",
    "        sequence_text = ''.join(sequence_lines)\n",
    "        if len(sequence_text) > 1024:\n",
    "                return 'TOO LONG'\n",
    "        return sequence_text\n",
    "    elif prefix == \"https://www.uniprot.org/uniprot/\":\n",
    "        searchUrl ='http://www.uniprot.org/uniprot/' + cID + \".fasta\"\n",
    "     \n",
    "        response = r.get(searchUrl)\n",
    "      \n",
    "        if response.status_code == 200:\n",
    "            fasta_sequence = response.text\n",
    "            # Skip the first header line\n",
    "            lines = fasta_sequence.split('\\n')\n",
    "            sequence_lines = lines[1:]\n",
    "            sequence_text = ''.join(sequence_lines)\n",
    "            if len(sequence_text) > 1024:\n",
    "                return 'TOO LONG'\n",
    "            return sequence_text\n",
    "        else:\n",
    "            print(\"Failed to retrieve the FASTA sequence.\")\n",
    "\n",
    "# Iterate through the filtered DataFrame\n",
    "for index, row in df.iterrows():\n",
    "    url = row['Epitope - Source Molecule IRI']\n",
    "    \n",
    "    # Check if the URL starts with one of the valid prefixes\n",
    "    for prefix in valid_prefixes:\n",
    "        if url[:len(prefix)] == prefix:\n",
    "            # Extract the code snippet from the URL\n",
    "            cID = url[len(prefix):]\n",
    "           \n",
    "\n",
    "            sequence = get_sequence_from_url(prefix, cID)\n",
    "        \n",
    "            if sequence == 'TOO LONG':\n",
    "                df.drop(index, inplace=True)\n",
    "            else:\n",
    "                # Replace the URL in 'Col2' with the retrieved sequence\n",
    "                df.at[index, 'Epitope - Source Molecule IRI'] = sequence\n",
    "                df.at[index, 'Epitope ID'] = cID\n",
    "            break\n",
    "    print(index, sequence)"
   ]
  },
  {
   "cell_type": "code",
   "execution_count": null,
   "metadata": {},
   "outputs": [],
   "source": [
    "df = df.dropna(subset=['Epitope ID'])\n",
    "file_path = 'processed_large.csv'\n",
    "df.to_csv(file_path) "
   ]
  },
  {
   "cell_type": "code",
   "execution_count": null,
   "metadata": {},
   "outputs": [],
   "source": []
  }
 ],
 "metadata": {
  "kernelspec": {
   "display_name": "envo",
   "language": "python",
   "name": "python3"
  },
  "language_info": {
   "codemirror_mode": {
    "name": "ipython",
    "version": 3
   },
   "file_extension": ".py",
   "mimetype": "text/x-python",
   "name": "python",
   "nbconvert_exporter": "python",
   "pygments_lexer": "ipython3",
   "version": "3.11.5"
  }
 },
 "nbformat": 4,
 "nbformat_minor": 2
}
